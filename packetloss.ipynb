{
 "cells": [
  {
   "cell_type": "code",
   "execution_count": null,
   "id": "be2ee885",
   "metadata": {},
   "outputs": [
    {
     "name": "stdout",
     "output_type": "stream",
     "text": [
      "Count: 36\n"
     ]
    }
   ],
   "source": [
    "packets = [2, 3, 6, 1, 1, 1, 2, 3, 4, 5, 1, 2, 4, 2, 1, 3, 10, 8]\n",
    "\n",
    "count = 0\n",
    "\n",
    "for i in range(len(packets)):\n",
    "    if i == 0:\n",
    "        # First packet, do nothing\n",
    "        continue\n",
    "    current = packets[i]\n",
    "    previous = packets[i-1]\n",
    "\n",
    "    if current <= previous:\n",
    "        # Reset or repeat → add previous value to count\n",
    "        count += previous\n",
    "\n",
    "count += packets[-1] -1        \n",
    "\n",
    "print(\"Count:\", count)"
   ]
  }
 ],
 "metadata": {
  "kernelspec": {
   "display_name": "work.venv (3.13.7)",
   "language": "python",
   "name": "python3"
  },
  "language_info": {
   "codemirror_mode": {
    "name": "ipython",
    "version": 3
   },
   "file_extension": ".py",
   "mimetype": "text/x-python",
   "name": "python",
   "nbconvert_exporter": "python",
   "pygments_lexer": "ipython3",
   "version": "3.13.7"
  }
 },
 "nbformat": 4,
 "nbformat_minor": 5
}
