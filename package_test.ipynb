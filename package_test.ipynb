packets = [2, 3, 6, 1, 1, 1, 2, 3, 4, 5, 1, 2, 4, 2, 1, 3, 10, 8]

count = 0

for i in range(len(packets)):
    if i == 0:
        # First packet, do nothing
        continue
    current = packets[i]
    previous = packets[i-1]

    if current <= previous:
        # Reset or repeat → add previous value to count
        count += previous

count += packets[-1] -1        

print("Count:", count)
